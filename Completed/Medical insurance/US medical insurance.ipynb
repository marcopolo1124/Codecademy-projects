{
 "cells": [
  {
   "cell_type": "markdown",
   "metadata": {},
   "source": [
    "# U.S. Medical Insurance Costs\n",
    "\n",
    "By Marco Polo"
   ]
  },
  {
   "cell_type": "markdown",
   "metadata": {},
   "source": [
    "# Import, read and save, plus analysis methods"
   ]
  },
  {
   "cell_type": "code",
   "execution_count": 1,
   "metadata": {},
   "outputs": [],
   "source": [
    "import csv\n",
    "import collections"
   ]
  },
  {
   "cell_type": "code",
   "execution_count": 2,
   "metadata": {},
   "outputs": [],
   "source": [
    "def open_csv(csv_name):\n",
    "    with open(csv_name, newline = '') as csv_file:\n",
    "        csv_dict = list(csv.DictReader(csv_file))\n",
    "    return csv_dict"
   ]
  },
  {
   "cell_type": "code",
   "execution_count": 3,
   "metadata": {},
   "outputs": [],
   "source": [
    "def get_list(key, OD_list):\n",
    "    lst = []\n",
    "    for item in OD_list:\n",
    "        lst.append(item[key])\n",
    "    return lst"
   ]
  },
  {
   "cell_type": "code",
   "execution_count": 4,
   "metadata": {},
   "outputs": [],
   "source": [
    "def binary_convert(lst):\n",
    "    binary_value = []\n",
    "    for item in lst:\n",
    "        if item == 'yes' or item == 'male':\n",
    "            binary_value.append(1)\n",
    "        else:\n",
    "            binary_value.append(0)\n",
    "    return binary_value"
   ]
  },
  {
   "cell_type": "code",
   "execution_count": 5,
   "metadata": {},
   "outputs": [],
   "source": [
    "def float_convert(lst):\n",
    "    new_lst = []\n",
    "    for item in lst:\n",
    "        new_item = float(item)\n",
    "        new_lst.append(new_item)\n",
    "    return new_lst"
   ]
  },
  {
   "cell_type": "code",
   "execution_count": 6,
   "metadata": {},
   "outputs": [],
   "source": [
    "def get_mean(lst):\n",
    "    return sum(lst)/len(lst)"
   ]
  },
  {
   "cell_type": "code",
   "execution_count": 7,
   "metadata": {},
   "outputs": [],
   "source": [
    "def get_median(lst):\n",
    "    sorted_list = sorted(lst)\n",
    "    return sorted_list[int(len(lst)/2+0.5)]"
   ]
  },
  {
   "cell_type": "code",
   "execution_count": 8,
   "metadata": {},
   "outputs": [],
   "source": [
    "def unique(lst):\n",
    "    new_lst= []\n",
    "    new_dic = {}\n",
    "    for item in lst:\n",
    "        if item not in new_lst:\n",
    "            new_lst.append(item)\n",
    "            new_dic[item] = 1\n",
    "        else:\n",
    "            new_dic[item] += 1\n",
    "        od = collections.OrderedDict(sorted(new_dic.items()))\n",
    "    return od"
   ]
  },
  {
   "cell_type": "markdown",
   "metadata": {},
   "source": [
    "# Opening CSV file"
   ]
  },
  {
   "cell_type": "code",
   "execution_count": 9,
   "metadata": {},
   "outputs": [],
   "source": [
    "medical_insurance_list_OD = open_csv('insurance.csv')"
   ]
  },
  {
   "cell_type": "code",
   "execution_count": 10,
   "metadata": {},
   "outputs": [],
   "source": [
    "age_list = get_list('age', medical_insurance_list_OD)\n",
    "sex_list = get_list('sex', medical_insurance_list_OD)\n",
    "bmi_list = get_list('bmi', medical_insurance_list_OD)\n",
    "children_list = get_list('children', medical_insurance_list_OD)\n",
    "smoker_list = get_list('smoker', medical_insurance_list_OD)\n",
    "region_list = get_list('region', medical_insurance_list_OD)\n",
    "charges_list = get_list('charges', medical_insurance_list_OD)"
   ]
  },
  {
   "cell_type": "markdown",
   "metadata": {},
   "source": [
    "# Patient Info class"
   ]
  },
  {
   "cell_type": "code",
   "execution_count": 11,
   "metadata": {},
   "outputs": [],
   "source": [
    "# Contains functions for showing number of records, number of either sex, number of either smoker or non-smoker, mean, median, max, min and range of both bmi and age, number of unique regions and age.\n",
    "class PatientInfo:\n",
    "    def __init__(self, age_list, sex_list, bmi_list, children_list, smoker_list, region_list, charges_list):\n",
    "        self.age_list = float_convert(age_list)\n",
    "        self.sex_list = binary_convert(sex_list)\n",
    "        self.bmi_list = float_convert(bmi_list)\n",
    "        self.children_list = float_convert(children_list)\n",
    "        self.smoker_list = binary_convert(smoker_list)\n",
    "        self.region_list = region_list\n",
    "        self.charges_list = float_convert(charges_list)\n",
    "        self.dict = {}\n",
    "        for i in range(len(self.age_list)):\n",
    "            self.dict['record '+str(i+1)] = {'Age':self.age_list[i], 'Sex':self.sex_list[i], 'BMI':self.bmi_list[i], 'Number of children': self.children_list[i], 'Smoker':self.smoker_list[i], 'Region':self.region_list[i], 'Charges':self.charges_list[i]}\n",
    "    def num_records(self):\n",
    "        print('There are {num_records} of records available'.format(num_records = len(self.age_list)))\n",
    "        return len(self.age_list)\n",
    "    def num_sexes(self):\n",
    "        print('There are {num_male} males'.format(num_male = sum(self.sex_list)))\n",
    "        print('There are {num_female} females'.format(num_female = len(self.sex_list) - sum(self.sex_list)))\n",
    "        return sum(self.sex_list), len(self.sex_list) - sum(self.sex_list)\n",
    "    def num_smoker(self):\n",
    "        print('There are {num_smoker} smokers'.format(num_smoker = sum(self.smoker_list)))\n",
    "        return sum(self.smoker_list)\n",
    "    def num_non_smoker(self):\n",
    "        print('There are {num_non_smoker} non-smokers'.format(num_non_smoker = len(self.smoker_list)-sum(self.smoker_list)))\n",
    "        return len(self.smoker_list)-sum(self.smoker_list)\n",
    "    def mean_age(self):\n",
    "        print('The mean age is {mean_age} year old'.format(mean_age = get_mean(self.age_list)))\n",
    "        return get_mean(self.age_list)\n",
    "    def median_age(self):\n",
    "        print('The median age is {median_age} year old'.format(median_age = get_median(self.age_list)))\n",
    "        return get_median(self.age_list)\n",
    "    def max_min_range_age(self):\n",
    "        print('The range of ages is {range_age} with the maximum age being {max_age} and minimum age being {min_age}'.format(range_age = max(self.age_list)-min(self.age_list), max_age = max(self.age_list), min_age = min(self.age_list)))\n",
    "        return max(self.age_list)-min(self.age_list),  max(self.age_list),min(self.age_list)\n",
    "    def mean_bmi(self):\n",
    "        print('The mean bmi is {mean_bmi}'.format(mean_bmi = get_mean(self.bmi_list)))\n",
    "        return get_mean(self.bmi_list)\n",
    "    def median_bmi(self):\n",
    "        print('The median bmi is {median_bmi}'.format(median_bmi = get_median(self.bmi_list)))\n",
    "        return get_median(self.bmi_list)\n",
    "    def max_min_range_bmi(self):\n",
    "        print('The range of bmi is {range_bmi} with the maximum bmi being {max_bmi} and minimum bmi being {min_bmi}'.format(range_bmi = max(self.bmi_list)-min(self.bmi_list), max_bmi = max(self.bmi_list), min_bmi = min(self.bmi_list)))\n",
    "        return max(self.bmi_list)-min(self.bmi_list),  max(self.bmi_list),min(self.bmi_list)\n",
    "    def regions(self):\n",
    "        return unique(self.region_list)\n",
    "    def num_age(self):\n",
    "        return unique(self.age_list)\n",
    "    def num_children(self):\n",
    "        return unique(self.children_list)\n",
    "    def mean_charges(self):\n",
    "        print('The mean charge is', get_mean(self.charges_list))\n",
    "        return get_mean(self.charges_list)\n",
    "    def median_charges(self):\n",
    "        print('The median charge is', get_median(self.charges_list))\n",
    "        return get_median(self.charges_list)\n",
    "        "
   ]
  },
  {
   "cell_type": "code",
   "execution_count": 12,
   "metadata": {},
   "outputs": [],
   "source": [
    "patient_info = PatientInfo(age_list, sex_list, bmi_list, children_list, smoker_list, region_list, charges_list)"
   ]
  },
  {
   "cell_type": "markdown",
   "metadata": {},
   "source": [
    "# Separation methods"
   ]
  },
  {
   "cell_type": "code",
   "execution_count": 13,
   "metadata": {},
   "outputs": [],
   "source": [
    "# Useful for age group separation, bmi separation, number of children separation and charges separation\n",
    "def separate_cont_group(dictionary, key, minimum, maximum):\n",
    "    new_dict = {}\n",
    "    for item in dictionary.keys():\n",
    "        if dictionary[item][key] >=minimum and dictionary[item][key]<maximum:\n",
    "            new_dict[item] = dictionary[item]\n",
    "    return new_dict"
   ]
  },
  {
   "cell_type": "code",
   "execution_count": 14,
   "metadata": {},
   "outputs": [],
   "source": [
    "# Useful for groups with only two values, i.e. sex and smoker\n",
    "def separate_binary_group(dictionary,key):\n",
    "    new_dict0 = {}\n",
    "    new_dict1 = {}\n",
    "    for item in dictionary.keys():\n",
    "        if dictionary[item][key]:\n",
    "            new_dict1[item] = dictionary[item]\n",
    "        else:\n",
    "            new_dict0[item] = dictionary[item]\n",
    "    return new_dict0, new_dict1"
   ]
  },
  {
   "cell_type": "code",
   "execution_count": 15,
   "metadata": {},
   "outputs": [],
   "source": [
    "# Useful for picking out values. Used for picking out regions\n",
    "def separate_by_keyword(dictionary, key, value_lst):\n",
    "    new_dict = {}\n",
    "    for item in dictionary.keys():\n",
    "        if dictionary[item][key] in value_lst:\n",
    "            new_dict[item] = dictionary[item]\n",
    "    return new_dict"
   ]
  },
  {
   "cell_type": "markdown",
   "metadata": {},
   "source": [
    "# Flexible separation function"
   ]
  },
  {
   "cell_type": "code",
   "execution_count": 16,
   "metadata": {},
   "outputs": [],
   "source": [
    "def separation(dictionary = patient_info.dict, min_age = 0, max_age = 100, min_bmi = 0, max_bmi = 100, sex = \"No separation\", smoker = \"No separation\", min_children = 0, max_children = 10, region = ['northwest', 'northeast', 'southwest', 'southeast'], min_charges = 0, max_charges = 10000000000):\n",
    "    age_dict = separate_cont_group(dictionary, 'Age', min_age, max_age)\n",
    "    bmi_dict = separate_cont_group(age_dict, 'BMI', min_bmi, max_bmi)\n",
    "    if sex == 'No separation':\n",
    "        sex_dict = bmi_dict\n",
    "    else:\n",
    "        female_group, male_group = separate_binary_group(bmi_dict, 'Sex')\n",
    "    if sex == 'Male':\n",
    "        sex_dict = male_group\n",
    "    elif sex == 'Female':\n",
    "        sex_dict = female_group\n",
    "    if smoker == 'No separation':\n",
    "        smoker_dict = sex_dict\n",
    "    else:\n",
    "        non_smoker_group, smoker_group = separate_binary_group(sex_dict, 'Smoker')\n",
    "    if smoker == 'Smoker':\n",
    "        smoker_dict = smoker_group\n",
    "    elif smoker == 'Non-smoker':\n",
    "        smoker_dict = non_smoker_group\n",
    "    children_dict = separate_cont_group(smoker_dict, 'Number of children', min_children, max_children)\n",
    "    region_dict = separate_by_keyword(children_dict, 'Region', region)\n",
    "    charges_dict = separate_cont_group(region_dict, 'Charges', min_charges, max_charges)\n",
    "    return charges_dict\n",
    "    \n",
    "    \n",
    "    "
   ]
  },
  {
   "cell_type": "markdown",
   "metadata": {},
   "source": [
    "# Examples of function use"
   ]
  },
  {
   "cell_type": "code",
   "execution_count": 17,
   "metadata": {},
   "outputs": [],
   "source": [
    "age_18_to_25 = separation(min_age = 18, max_age = 25)\n",
    "age_50_to_64_smokers = separation(min_age = 50, max_age = 64, smoker = 'Smoker')\n",
    "# Be careful entering 'Non-smoker', there is a hyphen\n",
    "age_25_to_40_male_non_smokers = separation(min_age = 25, max_age = 40, smoker = 'Non-smoker', sex = 'Male')\n",
    "# To get the group with only one age, min age is the age you want, and max_age is one above min_age. Do the same for 'Number of children', 'BMI' and 'Charges'\n",
    "age_19 = separation(min_age = 19, max_age = 20)"
   ]
  },
  {
   "cell_type": "code",
   "execution_count": 18,
   "metadata": {},
   "outputs": [
    {
     "name": "stdout",
     "output_type": "stream",
     "text": [
      "68\n"
     ]
    }
   ],
   "source": [
    "print(len(age_19))"
   ]
  },
  {
   "cell_type": "code",
   "execution_count": 37,
   "metadata": {},
   "outputs": [],
   "source": [
    "var_male_non_smoker_0_children_bmi_18_to_24_northwest = separation(smoker = 'Non-smoker', sex = 'Male', min_bmi = 18, max_bmi = 24, min_children = 0, max_children = 1, region = ['northwest'])"
   ]
  },
  {
   "cell_type": "code",
   "execution_count": 38,
   "metadata": {},
   "outputs": [
    {
     "data": {
      "text/plain": [
       "{'record 4': {'Age': 33.0,\n",
       "  'Sex': 1,\n",
       "  'BMI': 22.705,\n",
       "  'Number of children': 0.0,\n",
       "  'Smoker': 0,\n",
       "  'Region': 'northwest',\n",
       "  'Charges': 21984.47061},\n",
       " 'record 36': {'Age': 19.0,\n",
       "  'Sex': 1,\n",
       "  'BMI': 20.425,\n",
       "  'Number of children': 0.0,\n",
       "  'Smoker': 0,\n",
       "  'Region': 'northwest',\n",
       "  'Charges': 1625.43375},\n",
       " 'record 396': {'Age': 46.0,\n",
       "  'Sex': 1,\n",
       "  'BMI': 19.855,\n",
       "  'Number of children': 0.0,\n",
       "  'Smoker': 0,\n",
       "  'Region': 'northwest',\n",
       "  'Charges': 7526.70645},\n",
       " 'record 676': {'Age': 45.0,\n",
       "  'Sex': 1,\n",
       "  'BMI': 21.375,\n",
       "  'Number of children': 0.0,\n",
       "  'Smoker': 0,\n",
       "  'Region': 'northwest',\n",
       "  'Charges': 7222.78625},\n",
       " 'record 694': {'Age': 24.0,\n",
       "  'Sex': 1,\n",
       "  'BMI': 23.655,\n",
       "  'Number of children': 0.0,\n",
       "  'Smoker': 0,\n",
       "  'Region': 'northwest',\n",
       "  'Charges': 2352.96845},\n",
       " 'record 748': {'Age': 19.0,\n",
       "  'Sex': 1,\n",
       "  'BMI': 21.755,\n",
       "  'Number of children': 0.0,\n",
       "  'Smoker': 0,\n",
       "  'Region': 'northwest',\n",
       "  'Charges': 1627.28245},\n",
       " 'record 944': {'Age': 19.0,\n",
       "  'Sex': 1,\n",
       "  'BMI': 22.61,\n",
       "  'Number of children': 0.0,\n",
       "  'Smoker': 0,\n",
       "  'Region': 'northwest',\n",
       "  'Charges': 1628.4709},\n",
       " 'record 1028': {'Age': 23.0,\n",
       "  'Sex': 1,\n",
       "  'BMI': 18.715,\n",
       "  'Number of children': 0.0,\n",
       "  'Smoker': 0,\n",
       "  'Region': 'northwest',\n",
       "  'Charges': 21595.38229}}"
      ]
     },
     "execution_count": 38,
     "metadata": {},
     "output_type": "execute_result"
    }
   ],
   "source": [
    "var_male_non_smoker_0_children_bmi_18_to_24_northwest"
   ]
  }
 ],
 "metadata": {
  "kernelspec": {
   "display_name": "Python 3",
   "language": "python",
   "name": "python3"
  },
  "language_info": {
   "codemirror_mode": {
    "name": "ipython",
    "version": 3
   },
   "file_extension": ".py",
   "mimetype": "text/x-python",
   "name": "python",
   "nbconvert_exporter": "python",
   "pygments_lexer": "ipython3",
   "version": "3.7.4"
  }
 },
 "nbformat": 4,
 "nbformat_minor": 4
}

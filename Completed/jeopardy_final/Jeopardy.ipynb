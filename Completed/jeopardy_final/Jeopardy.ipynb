{
 "cells": [
  {
   "cell_type": "markdown",
   "metadata": {},
   "source": [
    "# df.rename(columns = dict_type)\n",
    "where dict_type has key:value pair of 'Original name': 'New name'. Note that the renamed columns are in the same order"
   ]
  },
  {
   "cell_type": "code",
   "execution_count": 1,
   "metadata": {},
   "outputs": [
    {
     "name": "stdout",
     "output_type": "stream",
     "text": [
      "   show_number        date      round                         category value  \\\n",
      "0  4680         2004-12-31  Jeopardy!  HISTORY                          $200   \n",
      "1  4680         2004-12-31  Jeopardy!  ESPN's TOP 10 ALL-TIME ATHLETES  $200   \n",
      "2  4680         2004-12-31  Jeopardy!  EVERYBODY TALKS ABOUT IT...      $200   \n",
      "3  4680         2004-12-31  Jeopardy!  THE COMPANY LINE                 $200   \n",
      "4  4680         2004-12-31  Jeopardy!  EPITAPHS & TRIBUTES              $200   \n",
      "\n",
      "                                                                                                      question  \\\n",
      "0  For the last 8 years of his life, Galileo was under house arrest for espousing this man's theory              \n",
      "1  No. 2: 1912 Olympian; football star at Carlisle Indian School; 6 MLB seasons with the Reds, Giants & Braves   \n",
      "2  The city of Yuma in this state has a record average of 4,055 hours of sunshine each year                      \n",
      "3  In 1963, live on \"The Art Linkletter Show\", this company served its billionth burger                          \n",
      "4  Signer of the Dec. of Indep., framer of the Constitution of Mass., second President of the United States      \n",
      "\n",
      "       answer  \n",
      "0  Copernicus  \n",
      "1  Jim Thorpe  \n",
      "2  Arizona     \n",
      "3  McDonald's  \n",
      "4  John Adams  \n"
     ]
    }
   ],
   "source": [
    "import pandas as pd\n",
    "pd.set_option('display.max_colwidth', -1)\n",
    "\n",
    "jeopardy=pd.read_csv('jeopardy.csv')\n",
    "jeopardy=jeopardy.rename(columns={'Show Number': 'show_number', ' Air Date': 'date', ' Round':'round', ' Category':'category', ' Value':'value', ' Question':'question', ' Answer':'answer'})\n",
    "print(jeopardy.head())\n"
   ]
  },
  {
   "cell_type": "markdown",
   "metadata": {},
   "source": [
    "# all(iterable)\n",
    "The all function returns True if all the elements of the iterable contains True, else it returns False\n",
    "Function used to find if the condition for all words in input_list is in the entry. Allow us to decrease the number of AND statements"
   ]
  },
  {
   "cell_type": "markdown",
   "metadata": {},
   "source": [
    "### Test all()"
   ]
  },
  {
   "cell_type": "code",
   "execution_count": 3,
   "metadata": {
    "scrolled": true
   },
   "outputs": [
    {
     "name": "stdout",
     "output_type": "stream",
     "text": [
      "['0', '1', '2', '3', '4', '5', '6', '7', '8', '9']\n",
      "[True, True, True, True, True, True, True, True, True, True]\n",
      "True\n"
     ]
    }
   ],
   "source": [
    "list=[str(i) for i in range(10)]\n",
    "print(list)\n",
    "x='0123456789'\n",
    "print([string in x for string in list])\n",
    "print(all(string in x for string in list))"
   ]
  },
  {
   "cell_type": "markdown",
   "metadata": {},
   "source": [
    "# Define function find_string\n",
    "Function looks for entries in the 'column' of the 'dataframe' that contains all the words in 'input_lst'. Outputs the filtered dataframe"
   ]
  },
  {
   "cell_type": "code",
   "execution_count": 10,
   "metadata": {},
   "outputs": [
    {
     "name": "stdout",
     "output_type": "stream",
     "text": [
      "        show_number        date             round               category  \\\n",
      "6337    3517         1999-12-14  Double Jeopardy!  Y1K                     \n",
      "9191    3907         2001-09-04  Double Jeopardy!  WON THE BATTLE          \n",
      "13454   4726         2005-03-07  Jeopardy!         A NUMBER FROM 1 TO 10   \n",
      "14912   2832         1996-12-17  Jeopardy!         WORLD HISTORY           \n",
      "18076   3227         1998-09-22  Double Jeopardy!  WORLD HISTORY           \n",
      "...      ...                ...               ...            ...           \n",
      "200369  2937         1997-05-13  Jeopardy!         BRITISH HISTORY         \n",
      "201168  3515         1999-12-10  Jeopardy!         BEFORE & AFTER          \n",
      "208742  4863         2005-11-02  Double Jeopardy!  BEFORE & AFTER          \n",
      "213870  5856         2010-02-15  Double Jeopardy!  URANUS                  \n",
      "216021  1881         1992-11-09  Double Jeopardy!  HISTORIC NAMES          \n",
      "\n",
      "         value  \\\n",
      "6337    800.0    \n",
      "9191    800.0    \n",
      "13454   1000.0   \n",
      "14912   100.0    \n",
      "18076   1000.0   \n",
      "...        ...   \n",
      "200369  200.0    \n",
      "201168  500.0    \n",
      "208742  3000.0   \n",
      "213870  1600.0   \n",
      "216021  1000.0   \n",
      "\n",
      "                                                                                                               question  \\\n",
      "6337    In retaliation for Viking raids, this \"Unready\" king of England attacks Norse areas of the Isle of Man            \n",
      "9191    This king of England beat the odds to trounce the French in the 1415 Battle of Agincourt                          \n",
      "13454   It's the number that followed the last king of England named William                                              \n",
      "14912   This country's King Louis IV was nicknamed \"Louis From Overseas\" because he was raised in England                 \n",
      "18076   In 1199 this crusader king of England was mortally wounded while besieging the castle of Chalus                   \n",
      "...                                                                                                 ...                   \n",
      "200369  8th C. King Offa built a 170-mile north-south dike that still partly marks the border of England & this country   \n",
      "201168  Popular Saint-Exupery character waiting around to become king of England                                          \n",
      "208742  Dutch-born king who ruled England jointly with Mary II & is a tasty New Zealand fish                              \n",
      "213870  In 1781 William Herschel discovered Uranus & initially named it after this king of England                        \n",
      "216021  His nickname was \"Bertie\", but he used this name & number when he became king of England in 1901                  \n",
      "\n",
      "                            answer  \n",
      "6337    Ethelred                    \n",
      "9191    Henry V                     \n",
      "13454   4                           \n",
      "14912   France                      \n",
      "18076   Richard the Lionhearted     \n",
      "...                         ...     \n",
      "200369  Wales                       \n",
      "201168  The Little Prince of Wales  \n",
      "208742  William of Orange roughy    \n",
      "213870  George III                  \n",
      "216021  Edward VII                  \n",
      "\n",
      "[74 rows x 7 columns]\n"
     ]
    }
   ],
   "source": [
    "def find_string(dataframe, column, input_lst):\n",
    "  filt = lambda x: all(word.lower() in str(x).lower().split(' ') for word in input_lst)\n",
    "  return dataframe[dataframe[column].apply(filt)]\n",
    "\n",
    "print(find_string(jeopardy, 'question', ['King', 'England']))\n",
    "  "
   ]
  },
  {
   "cell_type": "code",
   "execution_count": 4,
   "metadata": {},
   "outputs": [
    {
     "name": "stdout",
     "output_type": "stream",
     "text": [
      "   show_number        date      round                         category  value  \\\n",
      "0  4680         2004-12-31  Jeopardy!  HISTORY                          200.0   \n",
      "1  4680         2004-12-31  Jeopardy!  ESPN's TOP 10 ALL-TIME ATHLETES  200.0   \n",
      "2  4680         2004-12-31  Jeopardy!  EVERYBODY TALKS ABOUT IT...      200.0   \n",
      "3  4680         2004-12-31  Jeopardy!  THE COMPANY LINE                 200.0   \n",
      "4  4680         2004-12-31  Jeopardy!  EPITAPHS & TRIBUTES              200.0   \n",
      "\n",
      "                                                                                                      question  \\\n",
      "0  For the last 8 years of his life, Galileo was under house arrest for espousing this man's theory              \n",
      "1  No. 2: 1912 Olympian; football star at Carlisle Indian School; 6 MLB seasons with the Reds, Giants & Braves   \n",
      "2  The city of Yuma in this state has a record average of 4,055 hours of sunshine each year                      \n",
      "3  In 1963, live on \"The Art Linkletter Show\", this company served its billionth burger                          \n",
      "4  Signer of the Dec. of Indep., framer of the Constitution of Mass., second President of the United States      \n",
      "\n",
      "       answer  \n",
      "0  Copernicus  \n",
      "1  Jim Thorpe  \n",
      "2  Arizona     \n",
      "3  McDonald's  \n",
      "4  John Adams  \n"
     ]
    }
   ],
   "source": [
    "jeopardy['value']=jeopardy['value'].apply(lambda x: x.strip('$')).apply(lambda x: float(x.replace(',','')) if x!='None' else 0)\n",
    "print(jeopardy.head())"
   ]
  },
  {
   "cell_type": "markdown",
   "metadata": {},
   "source": [
    "# Define findunique()\n",
    "Outputs a count of each unique entry of a column in given dataframe"
   ]
  },
  {
   "cell_type": "code",
   "execution_count": 5,
   "metadata": {},
   "outputs": [],
   "source": [
    "def findunique(dataframe, column):\n",
    "    return dataframe[column].value_counts()"
   ]
  },
  {
   "cell_type": "code",
   "execution_count": 6,
   "metadata": {},
   "outputs": [
    {
     "data": {
      "text/plain": [
       "Henry VIII                    41\n",
       "Sweden                        24\n",
       "Solomon                       23\n",
       "Norway                        22\n",
       "Richard III                   21\n",
       "                              ..\n",
       "Paris (who was with Helen)    1 \n",
       "Nasser                        1 \n",
       "Charles IV                    1 \n",
       "Pet Sematary                  1 \n",
       "Tiger                         1 \n",
       "Name: answer, Length: 1165, dtype: int64"
      ]
     },
     "execution_count": 6,
     "metadata": {},
     "output_type": "execute_result"
    }
   ],
   "source": [
    "findunique(find_string(jeopardy, 'question', ['King']), 'answer')"
   ]
  },
  {
   "cell_type": "code",
   "execution_count": 7,
   "metadata": {},
   "outputs": [
    {
     "name": "stdout",
     "output_type": "stream",
     "text": [
      "        show_number        date             round  \\\n",
      "1398    3362         1999-03-30  Jeopardy!          \n",
      "2108    5981         2010-09-20  Jeopardy!          \n",
      "3379    5334         2007-11-15  Double Jeopardy!   \n",
      "7865    3501         1999-11-22  Double Jeopardy!   \n",
      "22359   3245         1998-10-16  Double Jeopardy!   \n",
      "36122   5754         2009-09-24  Double Jeopardy!   \n",
      "36511   5028         2006-06-21  Jeopardy!          \n",
      "40431   3385         1999-04-30  Double Jeopardy!   \n",
      "43122   3937         2001-10-16  Double Jeopardy!   \n",
      "46258   6087         2011-02-15  Double Jeopardy!   \n",
      "47271   2908         1997-04-02  Double Jeopardy!   \n",
      "54011   1423         1990-11-07  Double Jeopardy!   \n",
      "59518   5016         2006-06-05  Double Jeopardy!   \n",
      "65249   4179         2002-10-31  Jeopardy!          \n",
      "66428   2351         1994-11-21  Double Jeopardy!   \n",
      "69870   4309         2003-05-01  Double Jeopardy!   \n",
      "75410   4643         2004-11-10  Double Jeopardy!   \n",
      "80597   3948         2001-10-31  Double Jeopardy!   \n",
      "89539   3088         1998-01-21  Jeopardy!          \n",
      "94437   3868         2001-05-30  Double Jeopardy!   \n",
      "95465   5423         2008-03-19  Jeopardy!          \n",
      "98969   2580         1995-11-17  Jeopardy!          \n",
      "99229   2855         1997-01-17  Double Jeopardy!   \n",
      "103112  5465         2008-05-16  Jeopardy!          \n",
      "104534  1791         1992-05-18  Double Jeopardy!   \n",
      "105388  5073         2006-10-04  Jeopardy!          \n",
      "113458  3226         1998-09-21  Jeopardy!          \n",
      "113858  3852         2001-05-08  Double Jeopardy!   \n",
      "119309  4915         2006-01-13  Double Jeopardy!   \n",
      "150422  4096         2002-05-27  Jeopardy!          \n",
      "155897  3486         1999-11-01  Jeopardy!          \n",
      "159378  3789         2001-02-08  Double Jeopardy!   \n",
      "161253  4655         2004-11-26  Double Jeopardy!   \n",
      "167929  3460         1999-09-24  Double Jeopardy!   \n",
      "173486  5736         2009-07-13  Jeopardy!          \n",
      "184549  5649         2009-03-12  Jeopardy!          \n",
      "185117  368          1986-02-05  Double Jeopardy!   \n",
      "191531  5911         2010-05-03  Double Jeopardy!   \n",
      "195748  6217         2011-10-04  Double Jeopardy!   \n",
      "201823  4563         2004-06-09  Jeopardy!          \n",
      "213128  3778         2001-01-24  Jeopardy!          \n",
      "213561  351          1986-01-13  Double Jeopardy!   \n",
      "\n",
      "                             category   value  \\\n",
      "1398    THEATRE HODGEPODGE             500.0    \n",
      "2108    THE LOYOLA OPPOSITION          800.0    \n",
      "3379    HISTORIC BIRTH ANNOUNCEMENTS   800.0    \n",
      "7865    CAMBRIDGE UNIVERSITY           400.0    \n",
      "22359   WOMEN WHO STRAYED              600.0    \n",
      "36122   PASSIVE-AGGRESSIVE HISTORY     400.0    \n",
      "36511   1491                           400.0    \n",
      "40431   FAMOUS NAMES                   400.0    \n",
      "43122   OH, HENRY!                     400.0    \n",
      "46258   CAMBRIDGE                      1200.0   \n",
      "47271   THE EMMYS                      800.0    \n",
      "54011   BRITISH ROYALTY                400.0    \n",
      "59518   LOST ART                       800.0    \n",
      "65249   FRIENDS IN HISTORY             800.0    \n",
      "66428   BIBLES                         1000.0   \n",
      "69870   YOU SHOULD BE IN AN OPERA!     1000.0   \n",
      "75410   WEIRD HISTORY                  800.0    \n",
      "80597   KINGS OF ENGLAND               400.0    \n",
      "89539   BRITISH ROYAL LOVE AFFAIRS     100.0    \n",
      "94437   THE KINGS OF ENGLAND           600.0    \n",
      "95465   BRITISH SUCCESSION             200.0    \n",
      "98969   BRITISH HISTORY                300.0    \n",
      "99229   HEALTH & MEDICINE              200.0    \n",
      "103112  NEW REALITY SHOWS?             200.0    \n",
      "104534  HORSES                         800.0    \n",
      "105388  YOU'RE HISTORY!                200.0    \n",
      "113458  DO YOU HAVE ANY KINGS?         100.0    \n",
      "113858  TUDOR GARAGE                   600.0    \n",
      "119309  OLD HAMPSHIRE                  1200.0   \n",
      "150422  KILLER MUSICALS                600.0    \n",
      "155897  WORLD HISTORY                  500.0    \n",
      "159378  LONG LIVE THE KING!            800.0    \n",
      "161253  SHAKESPEARE'S SMALL PARTS      2000.0   \n",
      "167929  EARLY BRITISH CINEMA           800.0    \n",
      "173486  FILL IN THE HISTORY _____      200.0    \n",
      "184549  THEY SHOULD HAVE PLAYED VEGAS  600.0    \n",
      "185117  ENGLISH HISTORY                800.0    \n",
      "191531  HE DIED A DEADLY DEATH         400.0    \n",
      "195748  WILLIAM & KATE                 1200.0   \n",
      "201823  MUSEUMS                        800.0    \n",
      "213128  HISTORY OF THE WORLD PART 4    500.0    \n",
      "213561  HISTORICAL TRIVIA              400.0    \n",
      "\n",
      "                                                                                                                                                                                                          question  \\\n",
      "1398    Shakespeare's play about this Tudor king begins, \"I come no more to make you laugh...\"                                                                                                                       \n",
      "2108    In 1542 missionaries sent by Ignatius to Ireland were hampered by this king                                                                                                                                  \n",
      "3379    This king is thrilled by the birth of Mary, Feb. 18, 1516; there's still plenty of time to have a son--right?                                                                                                \n",
      "7865    This Tudor king founded Cambridge's Trinity College in 1546                                                                                                                                                  \n",
      "22359   Queen Catherine Howard went from headstrong to headless when she cheated on this king in 1541                                                                                                                \n",
      "36122   Some reports have this 16th century British king weighing in at 400 lbs., so calling him \"Pork Chop\", even lovingly... bad idea                                                                              \n",
      "36511   Born in 1491, this future king had a nurse named Anne Luke--not the last Anne he'd nuzzle                                                                                                                    \n",
      "40431   Newstead Abbey, Lord Byron's family estate, was given to his ancestors by this Tudor king                                                                                                                    \n",
      "43122   The father of England's King Edward VI                                                                                                                                                                       \n",
      "46258   In 1546 this king founded Trinity College, the largest of Cambridge's colleges                                                                                                                               \n",
      "47271   Keith Michell won for playing this king in the \"Catherine Howard\" episode of a 1971 series                                                                                                                   \n",
      "54011   Hefty king whose sister Mary was the grandmother of Lady Jane Grey                                                                                                                                           \n",
      "59518   One of Holbein's most ambitious depictions of this king was lost in a 1698 Whitehall Palace fire                                                                                                             \n",
      "65249   In 1540 Rachel says sorry, she hasn't had much luck with marriage, so this king marries Anne of Cleves instead                                                                                               \n",
      "66428   The Cranmer Bible of 1540 featured a Holbein woodcut of this king watching copies being passed out                                                                                                           \n",
      "69870   Casting call for \"Anna Bolena\"!  You'll need to sing bass (& gain 200 pounds) to play this hefty English king                                                                                                \n",
      "75410   In the first of several marriages, this English king married his sister-in-law in 1509                                                                                                                       \n",
      "80597   King who's railing <a href=\"http://www.j-archive.com/media/2001-10-31_DJ_03.wmv\">here</a> in the Thomas More biopic \"A Man for All Seasons\"  <i>\"Catherine's not my wife!  No priest can make her so!\"</i>   \n",
      "89539   This king romanced Mary Boleyn before her sister Anne lost her head over him                                                                                                                                 \n",
      "94437   In 1521 the title of \"Defender of the Faith\" was bestowed on this king who clashed with the Pope                                                                                                             \n",
      "95465   He was the only surviving son of Henry VII, so he became king in 1509                                                                                                                                        \n",
      "98969   The title \"Defender of the Faith\" was first bestowed upon this king in 1521 by Pope Leo X                                                                                                                    \n",
      "99229   When this Tudor king died in 1547 he had circulatory disorders & a leg ulcer                                                                                                                                 \n",
      "103112  Catherine, Anne, Jane, Anne No. 2, Catherine H. & Catherine P. try to avoid elimination in \"Who Wants to Marry\" this king                                                                                    \n",
      "104534  World Book says the shire breed developed after this Tudor king had all horses under 5' high destroyed                                                                                                       \n",
      "105388  Heads up!  This 16th century British king had 6 wives & a Tudor garage                                                                                                                                       \n",
      "113458  This king was Catherine Parr's third husband, & she was his sixth wife                                                                                                                                       \n",
      "113858  In brief: Born in Greenwich in 1491, becomes king at 17, has some pope problems & oh, yeah -- 6 wives                                                                                                        \n",
      "119309  Completed around 1544 to protect Hampshire's coast, Hurst Castle was built by this English king                                                                                                              \n",
      "150422  The Richard Rodgers musical \"Rex\" starred Nicol Williamson as this king who made some women lose their heads                                                                                                 \n",
      "155897  Catherine of Aragon, a daughter of Ferdinand & Isabella, married this British king                                                                                                                           \n",
      "159378  This king divorced the Church of England from the Catholic Church so that he could divorce the first of 6 wives                                                                                              \n",
      "161253  In Act V, Scene ii Dr. Butts shows up for a couple of lines with Cranmer & this title king                                                                                                                   \n",
      "167929  In 1933 Brit cinema enjoyed a boost with Alexander Korda's film \"The Private Life of\" this king                                                                                                              \n",
      "173486  British king who had 6 wives: Henry ____                                                                                                                                                                     \n",
      "184549  Showgirls in green sleeves--& little else--will accompany this king as he plays his legendary hit \"Greensleeves\"                                                                                             \n",
      "185117  In the 16th  C., this great Tudor king abolished the privilege of clergy issuing coins                                                                                                                       \n",
      "191531  On Jan. 28, 1547, after a physical & mental decline, this king of England was (surprisingly) survived by his wife Catherine                                                                                  \n",
      "195748  Kate could become Britain's sixth Queen Catherine; 3 of the first 5 were wives of this king                                                                                                                  \n",
      "201823  This 16th century English king is honored at the International Bowling Museum & Hall of Fame in St. Louis                                                                                                    \n",
      "213128  In 1534 this king began a reassertion of English influence in Ireland                                                                                                                                        \n",
      "213561  Before he died in 1547, this Tudor king weighed over 400 pounds                                                                                                                                              \n",
      "\n",
      "                 answer  \n",
      "1398    Henry VIII       \n",
      "2108    Henry VIII       \n",
      "3379    Henry VIII       \n",
      "7865    Henry VIII       \n",
      "22359   Henry VIII       \n",
      "36122   Henry VIII       \n",
      "36511   Henry VIII       \n",
      "40431   Henry VIII       \n",
      "43122   Henry VIII       \n",
      "46258   Henry VIII       \n",
      "47271   Henry VIII       \n",
      "54011   Henry VIII       \n",
      "59518   Henry VIII       \n",
      "65249   Henry VIII       \n",
      "66428   Henry VIII       \n",
      "69870   Henry VIII       \n",
      "75410   Henry VIII       \n",
      "80597   Henry VIII       \n",
      "89539   Henry VIII       \n",
      "94437   Henry VIII       \n",
      "95465   Henry VIII       \n",
      "98969   Henry VIII       \n",
      "99229   Henry VIII       \n",
      "103112  Henry VIII       \n",
      "104534  Henry VIII       \n",
      "105388  King Henry VIII  \n",
      "113458  Henry VIII       \n",
      "113858  Henry VIII       \n",
      "119309  Henry VIII       \n",
      "150422  Henry VIII       \n",
      "155897  Henry VIII       \n",
      "159378  Henry VIII       \n",
      "161253  Henry VIII       \n",
      "167929  Henry VIII       \n",
      "173486  Henry VIII       \n",
      "184549  Henry VIII       \n",
      "185117  Henry VIII       \n",
      "191531  Henry VIII       \n",
      "195748  Henry VIII       \n",
      "201823  Henry VIII       \n",
      "213128  Henry VIII       \n",
      "213561  Henry VIII       \n"
     ]
    }
   ],
   "source": [
    "jeo_contain_king=find_string(jeopardy, 'question', ['King'])\n",
    "\n",
    "print(find_string(jeo_contain_king, 'answer', ['Henry', 'VIII']))\n",
    "# print(findunique(jeo_contain_king, 'answer'))"
   ]
  }
 ],
 "metadata": {
  "kernelspec": {
   "display_name": "Python 3",
   "language": "python",
   "name": "python3"
  },
  "language_info": {
   "codemirror_mode": {
    "name": "ipython",
    "version": 3
   },
   "file_extension": ".py",
   "mimetype": "text/x-python",
   "name": "python",
   "nbconvert_exporter": "python",
   "pygments_lexer": "ipython3",
   "version": "3.7.4"
  }
 },
 "nbformat": 4,
 "nbformat_minor": 2
}

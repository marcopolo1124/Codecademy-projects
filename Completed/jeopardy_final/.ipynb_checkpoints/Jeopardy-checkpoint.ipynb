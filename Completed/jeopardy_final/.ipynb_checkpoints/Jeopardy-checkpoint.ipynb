{
 "cells": [
  {
   "cell_type": "code",
   "execution_count": null,
   "metadata": {},
   "outputs": [],
   "source": [
    "import pandas as pd\n",
    "pd.set_option('display.max_colwidth', -1)\n",
    "\n",
    "jeopardy=pd.read_csv('jeopardy.csv')\n",
    "jeopardy=jeopardy.rename(columns={'Show Number': 'show_number', ' Air Date': 'date', ' Round':'round', ' Category':'category', ' Value':'value', ' Question':'question', ' Answer':'answer'})\n",
    "print(jeopardy.head())\n"
   ]
  },
  {
   "cell_type": "code",
   "execution_count": null,
   "metadata": {},
   "outputs": [],
   "source": [
    "def find_string(dataframe, column, lst):\n",
    "  filt = lambda x: all(word.lower() in str(x).lower().split(' ') for word in lst)\n",
    "  return dataframe[dataframe[column].apply(filt)]\n",
    "\n",
    "print(find_string(jeopardy, 'question', ['King', 'England']))\n",
    "  "
   ]
  },
  {
   "cell_type": "code",
   "execution_count": null,
   "metadata": {},
   "outputs": [],
   "source": [
    "list=[str(i) for i in range(10)]\n",
    "print(list)\n",
    "x='0123456789'\n",
    "print([string in x for string in list])\n",
    "print(all(string in x for string in list))"
   ]
  },
  {
   "cell_type": "code",
   "execution_count": null,
   "metadata": {},
   "outputs": [],
   "source": [
    "jeopardy['value']=jeopardy['value'].apply(lambda x: x.strip('$')).apply(lambda x: float(x.replace(',','')) if x!='None' else 0)\n",
    "print(jeopardy.head())"
   ]
  },
  {
   "cell_type": "code",
   "execution_count": null,
   "metadata": {},
   "outputs": [],
   "source": [
    "def findunique(dataframe, column):\n",
    "    return dataframe[column].value_counts()"
   ]
  },
  {
   "cell_type": "code",
   "execution_count": null,
   "metadata": {},
   "outputs": [],
   "source": [
    "findunique(find_string(jeopardy, 'question', ['King']), 'answer')"
   ]
  },
  {
   "cell_type": "code",
   "execution_count": null,
   "metadata": {},
   "outputs": [],
   "source": [
    "jeo_contain_king=find_string(jeopardy, 'question', ['King'])\n",
    "\n",
    "print(find_string(jeo_contain_king, 'answer', ['Henry', 'VIII']))\n",
    "# print(findunique(jeo_contain_king, 'answer'))"
   ]
  }
 ],
 "metadata": {
  "kernelspec": {
   "display_name": "Python 3",
   "language": "python",
   "name": "python3"
  },
  "language_info": {
   "codemirror_mode": {
    "name": "ipython",
    "version": 3
   },
   "file_extension": ".py",
   "mimetype": "text/x-python",
   "name": "python",
   "nbconvert_exporter": "python",
   "pygments_lexer": "ipython3",
   "version": "3.7.4"
  }
 },
 "nbformat": 4,
 "nbformat_minor": 2
}
